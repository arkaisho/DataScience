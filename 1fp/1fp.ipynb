{
 "cells": [
  {
   "cell_type": "markdown",
   "metadata": {
    "colab_type": "text",
    "id": "dMudIvFnY4FC"
   },
   "source": [
    "# 1.0 importing libs"
   ]
  },
  {
   "cell_type": "code",
   "execution_count": 1,
   "metadata": {
    "colab": {},
    "colab_type": "code",
    "id": "K59zHXVzY6Cx"
   },
   "outputs": [],
   "source": [
    "import pandas as pd\n",
    "import numpy as np\n",
    "from matplotlib import pyplot as plt\n",
    "from colour import Color\n",
    "from matplotlib.collections import LineCollection\n",
    "from matplotlib.colors import ListedColormap, BoundaryNorm\n",
    "from datetime import datetime, timedelta\n",
    "import matplotlib.dates as mdates\n",
    "import matplotlib.patheffects as PathEffects\n",
    "import matplotlib.lines as mlines"
   ]
  },
  {
   "cell_type": "markdown",
   "metadata": {
    "colab_type": "text",
    "id": "vQXy8DGOY7zI"
   },
   "source": [
    "# 2.0 importing and cleanning dataset"
   ]
  },
  {
   "cell_type": "code",
   "execution_count": null,
   "metadata": {
    "colab": {
     "base_uri": "https://localhost:8080/",
     "height": 588
    },
    "colab_type": "code",
    "id": "RKJGOgKnY7-f",
    "outputId": "82af8ee7-7566-4569-8377-b663aa80d053"
   },
   "outputs": [],
   "source": [
    "#choose if you want to download from link or user a .csv file\n",
    "data = pd.read_csv(\"https://www.gstatic.com/covid19/mobility/Global_Mobility_Report.csv\")\n",
    "#data = pd.read_csv(\"gmr.csv\")\n",
    "\n",
    "data_br = data.loc[data.country_region=='Brazil'].iloc[:,[1,2,3,7,8,9,10,11,12,13]].copy()\n",
    "data_br.columns=[\"country\",\"state\",\"city\",\"date\",\"retail\",\"grocery\",\"parks\",\"transit\",\"workplaces\",\"residential\"]\n",
    "data_br.state = data_br.state.str.replace(\"State of \",\"\")\n",
    "data_br.date = pd.to_datetime(data_br.date)\n",
    "data_br.index = data_br.date\n",
    "data_br.drop(labels='date',axis=1,inplace=True)\n",
    "\n",
    "display(data_br.head())"
   ]
  },
  {
   "cell_type": "markdown",
   "metadata": {},
   "source": [
    "# 3.0 Creating sub dataFrames"
   ]
  },
  {
   "cell_type": "code",
   "execution_count": null,
   "metadata": {},
   "outputs": [],
   "source": [
    "data_br_state = data_br.loc[~data_br.state.isnull() & data_br.city.isnull()].copy()"
   ]
  },
  {
   "cell_type": "markdown",
   "metadata": {},
   "source": [
    "# 4.0 functions"
   ]
  },
  {
   "cell_type": "code",
   "execution_count": null,
   "metadata": {},
   "outputs": [],
   "source": [
    "#get the minimum and the last value from a pandas series\n",
    "def getMinAndActual(serie):\n",
    "    minimum = serie.loc[serie==serie.min()].tail(1)\n",
    "    actual = serie.tail(1)\n",
    "    return minimum.append(actual)\n",
    "#get the percentage recover value of a pandas series\n",
    "def recover(minimum,actual):\n",
    "    value=0\n",
    "    if(actual>=0):\n",
    "        value = 100+abs((100/minimum)*actual)\n",
    "    else:\n",
    "        value = 100-abs((100/minimum)*abs(actual))\n",
    "    return round(value,0)\n",
    "#group and unstack a dataframe \n",
    "def groupAndUnstack(dataframe,firstBy,secondBy):\n",
    "    return dataframe.groupby(by=[firstBy,secondBy]).mean().unstack()\n",
    "#make a fancy plot of a highlighted panda series on an axes\n",
    "def plotHighlight(ax,highlight):\n",
    "    ax.plot(highlight,color='white',linewidth=7,zorder=1)\n",
    "    highlight_min_actual = getMinAndActual(highlight)\n",
    "    minimum = (highlight_min_actual.index[0],highlight_min_actual[0])\n",
    "    actual = (highlight_min_actual.index[1],highlight_min_actual[1])\n",
    "    colors = list(Color(\"blue\").range_to(Color(\"cyan\"),100))+list(Color(\"cyan\").range_to(Color(\"yellow\"),100))\n",
    "    colorMap = []\n",
    "    #generate color range for the entrys\n",
    "    for entry in highlight:\n",
    "        colorMap.append(colors[100+int(entry)].hex)\n",
    "    #plot the gradient line\n",
    "    for i in range(highlight.count()-1):\n",
    "        x = (highlight.index[i],highlight.index[i+1])\n",
    "        y = (highlight[i],highlight[i+1])\n",
    "        ax.plot(x,y,colorMap[i],linewidth=4,zorder=2)\n",
    "        if (x[0],y[0]) == minimum:\n",
    "            ax.scatter(x[0],y[0],marker='o',alpha=1,color=colorMap[i],linewidth=8,zorder=3)\n",
    "        if (x[1],y[1]) == actual:\n",
    "            ax.scatter(x[1],y[1],marker='o',alpha=1,color=colorMap[i],linewidth=8,zorder=3)\n",
    "    ax.set_xlim(right=pd.Timestamp(actual[0]+pd.DateOffset(5)))\n",
    "    #annotate on the plot the minumum and actual values\n",
    "    ax.annotate(str(round(minimum[1],0))+\"%\",xy=(minimum[0],minimum[1]),color='black',weight='bold',ha='right',path_effects=[PathEffects.withStroke(linewidth=4, foreground='w')],zorder=5)\n",
    "    ax.annotate(str(round(actual[1],0))+\"%\",xy=(actual[0],actual[1]),color='black',weight='bold',ha='right',path_effects=[PathEffects.withStroke(linewidth=4, foreground='w')],zorder=5)\n",
    "    #show difference between minimum and actual\n",
    "    ax.plot([minimum[0],actual[0]],[minimum[1],minimum[1]],color=\"black\",linestyle=\"--\",linewidth=2)\n",
    "    ax.plot([actual[0],actual[0]],[minimum[1],actual[1]],color=\"black\",linestyle=\"--\",linewidth=2)\n",
    "    ax.annotate(str(recover(minimum[1],actual[1]))+\"%\",xy=(actual[0],(minimum[1]+actual[1])/2),color='red',weight='bold',ha='right',path_effects=[PathEffects.withStroke(linewidth=4, foreground='w')],zorder=5)\n",
    "#simple plot gray lines on an axes\n",
    "def simplePlot(ax,lines):\n",
    "    lines.plot(ax=ax,color='grey',linewidth=2,alpha=0.4,legend=False,zorder=1)"
   ]
  },
  {
   "cell_type": "markdown",
   "metadata": {
    "colab_type": "text",
    "id": "d_AZ2wS_Y9_B"
   },
   "source": [
    "# 5.0 Plotting data"
   ]
  },
  {
   "cell_type": "code",
   "execution_count": null,
   "metadata": {
    "colab": {
     "base_uri": "https://localhost:8080/",
     "height": 54
    },
    "colab_type": "code",
    "id": "OgJonVG5cFoa",
    "outputId": "767708df-ddc9-487a-e90e-586f0ec18214"
   },
   "outputs": [],
   "source": [
    "print(plt.style.available)\n",
    "plt.style.use('fivethirtyeight')"
   ]
  },
  {
   "cell_type": "code",
   "execution_count": null,
   "metadata": {
    "colab": {
     "base_uri": "https://localhost:8080/",
     "height": 530
    },
    "colab_type": "code",
    "id": "DmsHleqyY-E7",
    "outputId": "28c02a51-9a10-4e2f-f36a-b9b50c2b4cb3",
    "scrolled": false
   },
   "outputs": [],
   "source": [
    "#create the subplot axe and figure\n",
    "fig,ax = plt.subplots(ncols=1,nrows=1,figsize=(10,8))\n",
    "\n",
    "#change the figure target item and state\n",
    "item='retail'\n",
    "highlight_state = 'Amazonas'\n",
    "\n",
    "#get the data\n",
    "lines = groupAndUnstack(data_br_state,data_br_state.index,\"state\")[item].rolling(window=7).mean()\n",
    "highlight = groupAndUnstack(data_br_state,data_br_state.index,\"state\")[item][highlight_state].fillna(method='ffill').rolling(window=7).mean()[6:].copy()\n",
    "\n",
    "#plot lines\n",
    "simplePlot(ax,lines)\n",
    "plotHighlight(ax,highlight)\n",
    "\n",
    "#create the legend lines\n",
    "others_state = mlines.Line2D([], [],color='gray', label='Outros estados')\n",
    "highlight_state =  mlines.Line2D([], [],color='cyan', label='Estado em destaque')\n",
    "#change the plot legend, tick labels and title\n",
    "ax.legend(handles=[others_state,highlight_state],loc='upper left', bbox_to_anchor=(1., 1.),ncol=1)\n",
    "ax.set_xticklabels([\"\",\"Março\",\"Abril\",\"Maio\",\"Junho\",\"Julho\",\"Agosto\",\"Setembro\"],fontsize=12)\n",
    "ax.yaxis.set_tick_params(labelsize=12)\n",
    "ax.set_title(\"Distanciamento social no RN (Google Mobility Report)\",fontsize=12)\n",
    "ax.set_xlabel(\"\")\n",
    "\n",
    "#plt.savefig(\"MovingAverageFigure.png\",dpi=300)\n",
    "plt.show()"
   ]
  },
  {
   "cell_type": "code",
   "execution_count": null,
   "metadata": {
    "scrolled": false
   },
   "outputs": [],
   "source": [
    "#define the figure number of graphics\n",
    "lines=2\n",
    "cols=4\n",
    "size=lines*cols\n",
    "\n",
    "#create the matplotlib subplots\n",
    "fig,ax = plt.subplots(nrows=lines,ncols=cols,figsize=(cols*6,lines*6))\n",
    "\n",
    "#change figure title and target item (google mobility report variable) to analize\n",
    "fig.suptitle('Estados com melhores indíces de recuperação (Google Mobility Report)', fontsize=18,fontweight='bold')\n",
    "item='retail'\n",
    "\n",
    "#get the top states with better recover values\n",
    "stacked = groupAndUnstack(data_br_state,data_br_state.index,\"state\")[item].rolling(window=7).mean()\n",
    "top_states = stacked.apply(lambda x:recover(x.min(),x.iloc[-1])).sort_values(ascending=False).head(size)\n",
    "\n",
    "#create the legend lines\n",
    "others_state = mlines.Line2D([], [],color='gray', label='Outros estados')\n",
    "highlight_state =  mlines.Line2D([], [],color='cyan', label='Estado em destaque')\n",
    "\n",
    "#with the type (line x cols) type of figure, plot the data\n",
    "if(size==1):\n",
    "    state = top_states.index[0]\n",
    "\n",
    "    lines = groupAndUnstack(data_br_state,data_br_state.index,\"state\")[item].rolling(window=7).mean()\n",
    "    highlight = groupAndUnstack(data_br_state,data_br_state.index,\"state\")[item][state].fillna(method='ffill').rolling(window=7).mean()[6:].copy()\n",
    "\n",
    "    simplePlot(ax,lines)\n",
    "    plotHighlight(ax,highlight)\n",
    "\n",
    "    ax.set_title(state,fontsize=16,loc='left',fontweight='bold')\n",
    "    ax.set_xlabel(\"\")\n",
    "    labels = [\"\" for item in ax.get_xticklabels()]\n",
    "    labels[1]=\"Mar\"\n",
    "    labels[len(labels)-1]=\"Set\"\n",
    "    ax.set_xticklabels(labels)\n",
    "    ax.legend(handles=[others_state,highlight_state],loc='upper left', bbox_to_anchor=(1., 1.),ncol=1)\n",
    "elif(lines==1 or cols==1):\n",
    "    for i in range(size):\n",
    "        state = top_states.index[i]\n",
    "\n",
    "        lines = groupAndUnstack(data_br_state,data_br_state.index,\"state\")[item].rolling(window=7).mean()\n",
    "        highlight = groupAndUnstack(data_br_state,data_br_state.index,\"state\")[item][state].fillna(method='ffill').rolling(window=7).mean()[6:].copy()\n",
    "\n",
    "        simplePlot(ax[i],lines)\n",
    "        plotHighlight(ax[i],highlight)\n",
    "\n",
    "        ax[i].set_title(state,fontsize=16,loc='left',fontweight='bold')\n",
    "        ax[i].set_xlabel(\"\")\n",
    "        labels = [\"\" for item in ax[i].get_xticklabels()]\n",
    "        labels[1]=\"Mar\"\n",
    "        labels[len(labels)-1]=\"Set\"\n",
    "        ax[i].set_xticklabels(labels)\n",
    "        ax[size-1].legend(handles=[others_state,highlight_state],loc='upper left', bbox_to_anchor=(1., 1.),ncol=1)\n",
    "else:\n",
    "    for i in range(lines):\n",
    "        for j in range(cols):\n",
    "            state = top_states.index[i*cols+j]\n",
    "\n",
    "            lines = groupAndUnstack(data_br_state,data_br_state.index,\"state\")[item].rolling(window=7).mean()\n",
    "            highlight = groupAndUnstack(data_br_state,data_br_state.index,\"state\")[item][state].fillna(method='ffill').rolling(window=7).mean()[6:].copy()\n",
    "\n",
    "            simplePlot(ax[i][j],lines)\n",
    "            plotHighlight(ax[i][j],highlight)\n",
    "\n",
    "            ax[i][j].set_title(state,fontsize=16,loc='left',fontweight='bold')\n",
    "            ax[i][j].set_xlabel(\"\")\n",
    "            labels = [\"\" for item in ax[i][j].get_xticklabels()]\n",
    "            labels[1]=\"Mar\"\n",
    "            labels[len(labels)-1]=\"Set\"\n",
    "            ax[i][j].set_xticklabels(labels)\n",
    "            ax[0][cols-1].legend(handles=[others_state,highlight_state],loc='upper left', bbox_to_anchor=(1., 1.),ncol=1)\n",
    "\n",
    "plt.tight_layout()\n",
    "plt.savefig(\"1FP.png\",dpi=400)\n",
    "plt.show()"
   ]
  }
 ],
 "metadata": {
  "colab": {
   "collapsed_sections": [],
   "name": "DataScience2020.6(1FP)",
   "provenance": []
  },
  "kernelspec": {
   "display_name": "Python 3",
   "language": "python",
   "name": "python3"
  },
  "language_info": {
   "codemirror_mode": {
    "name": "ipython",
    "version": 3
   },
   "file_extension": ".py",
   "mimetype": "text/x-python",
   "name": "python",
   "nbconvert_exporter": "python",
   "pygments_lexer": "ipython3",
   "version": "3.8.2"
  },
  "toc": {
   "base_numbering": 1,
   "nav_menu": {
    "height": "127px",
    "width": "324px"
   },
   "number_sections": true,
   "sideBar": true,
   "skip_h1_title": false,
   "title_cell": "Table of Contents",
   "title_sidebar": "Contents",
   "toc_cell": false,
   "toc_position": {},
   "toc_section_display": true,
   "toc_window_display": false
  },
  "varInspector": {
   "cols": {
    "lenName": 16,
    "lenType": 16,
    "lenVar": 40
   },
   "kernels_config": {
    "python": {
     "delete_cmd_postfix": "",
     "delete_cmd_prefix": "del ",
     "library": "var_list.py",
     "varRefreshCmd": "print(var_dic_list())"
    },
    "r": {
     "delete_cmd_postfix": ") ",
     "delete_cmd_prefix": "rm(",
     "library": "var_list.r",
     "varRefreshCmd": "cat(var_dic_list()) "
    }
   },
   "position": {
    "height": "338.85px",
    "left": "795px",
    "right": "20px",
    "top": "112px",
    "width": "558px"
   },
   "types_to_exclude": [
    "module",
    "function",
    "builtin_function_or_method",
    "instance",
    "_Feature"
   ],
   "window_display": false
  }
 },
 "nbformat": 4,
 "nbformat_minor": 1
}
